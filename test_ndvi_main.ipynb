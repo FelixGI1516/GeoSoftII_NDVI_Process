{
 "cells": [
  {
   "cell_type": "code",
   "execution_count": 23,
   "metadata": {},
   "outputs": [],
   "source": [
    "#import ipytest\n",
    "#import pytest\n",
    "#import import_ipynb"
   ]
  },
  {
   "cell_type": "code",
   "execution_count": 24,
   "metadata": {},
   "outputs": [],
   "source": [
    "%reload_ext ipython_pytest"
   ]
  },
  {
   "cell_type": "code",
   "execution_count": 26,
   "metadata": {},
   "outputs": [
    {
     "name": "stdout",
     "output_type": "stream",
     "text": [
      "============================= test session starts =============================\n",
      "platform win32 -- Python 3.8.5, pytest-6.2.1, py-1.10.0, pluggy-0.13.1\n",
      "rootdir: C:\\Users\\MAGDAL~1\\AppData\\Local\\Temp\\tmplse4p_1n\n",
      "collected 1 item\n",
      "\n",
      "_ipytesttmp.py .                                                         [100%]\n",
      "\n",
      "============================== 1 passed in 0.13s ==============================\n"
     ]
    }
   ],
   "source": [
    "%%pytest\n",
    "\n",
    "from ndvi import calculate\n",
    "import xarray as xr\n",
    "import os\n",
    "import ipytest\n",
    "import pytest\n",
    "\n",
    "\n",
    "def test_calculate():\n",
    "    '''nominator is zero'''\n",
    "    assert all(calculate(xr.DataArray([[1,2]]),xr.DataArray([[1,2]])) == xr.DataArray([[0.0,0.0]]))\n",
    "    \n",
    "    '''NC-file sucessfully created '''\n",
    "    calculate(xr.DataArray([[1,2]]),xr.DataArray([[1,2]]), \"calculatedNDVI.nc\") \n",
    "    assert os.path.exists(\"calculatedNDVI.nc\")\n",
    "    \n",
    "    '''negative denominator'''\n",
    "    assert all(calculate(xr.DataArray([[-2,-2]]),xr.DataArray([[1,1]])) == xr.DataArray([[-3.0,-3.0]]))\n",
    "    \n",
    "    '''calculation with regular values'''\n",
    "    assert all(calculate(xr.DataArray([[4,2]]),xr.DataArray([[1,3]])) == xr.DataArray([[-0.6,0.2]]))\n",
    "    \n",
    "    '''no bands in input (no data available in timeframe)'''\n",
    "    with pytest.raises(ValueError):\n",
    "        calculate(xr.DataArray([]),xr.DataArray([]))"
   ]
  },
  {
   "cell_type": "code",
   "execution_count": null,
   "metadata": {},
   "outputs": [],
   "source": []
  }
 ],
 "metadata": {
  "kernelspec": {
   "display_name": "Python 3",
   "language": "python",
   "name": "python3"
  },
  "language_info": {
   "codemirror_mode": {
    "name": "ipython",
    "version": 3
   },
   "file_extension": ".py",
   "mimetype": "text/x-python",
   "name": "python",
   "nbconvert_exporter": "python",
   "pygments_lexer": "ipython3",
   "version": "3.8.5"
  }
 },
 "nbformat": 4,
 "nbformat_minor": 4
}
